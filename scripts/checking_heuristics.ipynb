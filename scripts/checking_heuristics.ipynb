{
 "cells": [
  {
   "cell_type": "code",
   "execution_count": 1,
   "id": "fb259a81",
   "metadata": {},
   "outputs": [],
   "source": [
    "import os\n",
    "import numpy as np\n",
    "import cv2\n",
    "from lib import evaluation_result, read_img, test_img, draw_img, PATH_IMG"
   ]
  },
  {
   "cell_type": "code",
   "execution_count": 2,
   "id": "22725e0c",
   "metadata": {},
   "outputs": [],
   "source": [
    "from classification_bold.low_level import classifier as classifier_low_level"
   ]
  },
  {
   "cell_type": "code",
   "execution_count": 3,
   "id": "4f825257",
   "metadata": {},
   "outputs": [],
   "source": [
    "files = os.listdir(PATH_IMG)"
   ]
  },
  {
   "cell_type": "code",
   "execution_count": 4,
   "id": "4cb4d550",
   "metadata": {},
   "outputs": [],
   "source": [
    "def main(classifier):\n",
    "    bold_count = 0 \n",
    "    regular_count = 0\n",
    "    bold_right = 0\n",
    "    regular_right = 0\n",
    "    for f in files:\n",
    "\n",
    "        npy_path = os.path.join(PATH_IMG, f+\".npy\")\n",
    "        if os.path.isfile(npy_path):\n",
    "            print(f\"\\n{f}\")\n",
    "\n",
    "            path_img = os.path.join(PATH_IMG, f)\n",
    "            img = read_img(path_img)\n",
    "            with open(npy_path, 'rb') as f:\n",
    "                box = np.load(f).tolist()\n",
    "            try:\n",
    "                #=====================================\n",
    "                style_words, _ = classifier(img, box)\n",
    "                #=====================================\n",
    "\n",
    "                rez = test_img(box, style_words)\n",
    "                bold_count += rez[0]\n",
    "                regular_count += rez[1]\n",
    "                bold_right += rez[2]\n",
    "                regular_right += rez[3]\n",
    "                evaluation_result(rez)\n",
    "            except ValueError:\n",
    "                print(\"Всего одно слово!\")\n",
    "            print(\"-\"*36)\n",
    "\n",
    "    REZ = [bold_count, regular_count, bold_right, regular_right] \n",
    "    print(\"=\"*36)\n",
    "    evaluation_result(REZ)\n",
    "    \n",
    "def show_img(f, classifier):\n",
    "\n",
    "    npy_path = os.path.join(PATH_IMG, f+\".npy\")\n",
    "    if os.path.isfile(npy_path):\n",
    "        print(f\"\\n{f}\")\n",
    "\n",
    "        path_img = os.path.join(PATH_IMG, f)\n",
    "        img = read_img(path_img)\n",
    "        with open(npy_path, 'rb') as f:\n",
    "            box = np.load(f).tolist()\n",
    "\n",
    "        #=====================================\n",
    "        style_words, info_ = classifier(img, box)\n",
    "        #=====================================\n",
    "        draw_img(img, box, style_words, info_)"
   ]
  },
  {
   "cell_type": "code",
   "execution_count": 5,
   "id": "b3d46a9f",
   "metadata": {},
   "outputs": [
    {
     "name": "stdout",
     "output_type": "stream",
     "text": [
      "\n",
      "border.png\n",
      "precision:  0.00%\n",
      "------------------------------------\n",
      "\n",
      "border2.png\n",
      "precision:  0.00%\n",
      "------------------------------------\n",
      "\n",
      "img_10.jpeg\n",
      "precision: 100.00%\n",
      "recall: 50.00%\n",
      "------------------------------------\n",
      "\n",
      "text_1.png\n",
      "precision:  0.00%\n",
      "------------------------------------\n",
      "\n",
      "text_11.png\n",
      "------------------------------------\n",
      "\n",
      "text_12.jpeg\n",
      "precision: 16.67%\n",
      "recall: 100.00%\n",
      "------------------------------------\n",
      "\n",
      "text_13.png\n",
      "precision: 100.00%\n",
      "recall: 100.00%\n",
      "------------------------------------\n",
      "\n",
      "text_17.png\n",
      "precision: 66.67%\n",
      "recall: 100.00%\n",
      "------------------------------------\n",
      "\n",
      "text_19.png\n",
      "precision: 50.00%\n",
      "recall: 100.00%\n",
      "------------------------------------\n",
      "\n",
      "text_2.png\n",
      "precision: 100.00%\n",
      "recall: 100.00%\n",
      "------------------------------------\n",
      "\n",
      "text_20.png\n",
      "recall:  0.00%\n",
      "------------------------------------\n",
      "\n",
      "text_21.png\n",
      "recall:  0.00%\n",
      "------------------------------------\n",
      "\n",
      "text_4.png\n",
      "precision: 100.00%\n",
      "recall: 16.67%\n",
      "------------------------------------\n",
      "\n",
      "text_5.png\n",
      "precision: 100.00%\n",
      "recall: 100.00%\n",
      "------------------------------------\n",
      "\n",
      "text_6.png\n",
      "precision: 100.00%\n",
      "recall: 100.00%\n",
      "------------------------------------\n",
      "\n",
      "text_7.png\n",
      "precision:  0.00%\n",
      "------------------------------------\n",
      "\n",
      "text_8.png\n",
      "precision: 100.00%\n",
      "recall: 100.00%\n",
      "------------------------------------\n",
      "\n",
      "text_9.png\n",
      "precision: 75.00%\n",
      "recall: 75.00%\n",
      "------------------------------------\n",
      "====================================\n",
      "precision: 57.78%\n",
      "recall: 50.98%\n"
     ]
    }
   ],
   "source": [
    "# main(classifer_mlp)\n",
    "# # main(classifer_cnn)\n",
    "# main(classifier_sq_weight)\n",
    "main(classifier_low_level)"
   ]
  },
  {
   "cell_type": "code",
   "execution_count": null,
   "id": "a5e9b482",
   "metadata": {},
   "outputs": [],
   "source": []
  },
  {
   "cell_type": "code",
   "execution_count": 9,
   "id": "d39b1353",
   "metadata": {},
   "outputs": [
    {
     "name": "stdout",
     "output_type": "stream",
     "text": [
      "\n",
      "text_17.png\n"
     ]
    }
   ],
   "source": [
    "show_img(\"text_17.png\",classifier_low_level)"
   ]
  },
  {
   "cell_type": "code",
   "execution_count": null,
   "id": "76180e67",
   "metadata": {},
   "outputs": [],
   "source": []
  },
  {
   "cell_type": "code",
   "execution_count": null,
   "id": "48b9340f",
   "metadata": {},
   "outputs": [],
   "source": []
  }
 ],
 "metadata": {
  "kernelspec": {
   "display_name": "Python 3 (ipykernel)",
   "language": "python",
   "name": "python3"
  },
  "language_info": {
   "codemirror_mode": {
    "name": "ipython",
    "version": 3
   },
   "file_extension": ".py",
   "mimetype": "text/x-python",
   "name": "python",
   "nbconvert_exporter": "python",
   "pygments_lexer": "ipython3",
   "version": "3.10.5"
  }
 },
 "nbformat": 4,
 "nbformat_minor": 5
}
