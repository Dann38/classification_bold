{
 "cells": [
  {
   "cell_type": "code",
   "execution_count": 1,
   "id": "7de32892",
   "metadata": {},
   "outputs": [],
   "source": [
    "import lib\n",
    "import os\n",
    "import cv2\n",
    "import numpy as np\n",
    "import pytesseract\n",
    "import matplotlib.pyplot as plt"
   ]
  },
  {
   "cell_type": "markdown",
   "id": "1980dbbf",
   "metadata": {},
   "source": [
    "# Введение\n",
    "Основным материалом является документ. Этот документ атомарно состоит из строк. \n",
    "Первым делом необходимо выделить из изоброжения картинки строк, чтоб потом можно было с ними что-то делать. \n",
    "Предполагается, что программа в которой будет проводится классификация может давать строки.\n",
    "В случае этого проекта эту роль имитирует функция get_row_image(path_img)\n"
   ]
  },
  {
   "cell_type": "markdown",
   "id": "53c7105c",
   "metadata": {},
   "source": [
    "Доступные файлы для работы, это файлы к которым есть .npy файл, так как программа опирается на него\n"
   ]
  },
  {
   "cell_type": "code",
   "execution_count": 2,
   "id": "d4480a25",
   "metadata": {},
   "outputs": [
    {
     "name": "stdout",
     "output_type": "stream",
     "text": [
      "border.png\n",
      "border2.png\n",
      "img_10.jpeg\n",
      "text_1.png\n",
      "text_11.png\n",
      "text_12.jpeg\n",
      "text_13.png\n",
      "text_17.png\n",
      "text_19.png\n",
      "text_2.png\n",
      "text_20.png\n",
      "text_21.png\n",
      "text_4.png\n",
      "text_5.png\n",
      "text_6.png\n",
      "text_7.png\n",
      "text_8.png\n",
      "text_9.png\n"
     ]
    }
   ],
   "source": [
    "for name_file in os.listdir(lib.PATH_IMG):\n",
    "    if name_file[-4:] == \".npy\":\n",
    "        print(name_file[:-4])"
   ]
  },
  {
   "cell_type": "code",
   "execution_count": 56,
   "id": "3af279e1",
   "metadata": {},
   "outputs": [],
   "source": [
    "name_file = \"text_17.png\"\n",
    "path_img = os.path.join(lib.PATH_IMG,name_file)\n",
    "data = lib.get_row_image(path_img)\n",
    "\n",
    "\n",
    "img_doc = data[\"img\"]\n",
    "npy_mtrx_doc = data[\"npy\"]\n",
    "rows = data[\"image_rows\"]\n",
    "lib.draw_img(img_doc, [], [])"
   ]
  },
  {
   "cell_type": "markdown",
   "id": "0134aa1f",
   "metadata": {},
   "source": [
    "В результате имеем само изображение, матрицу ручной разметки и собственно список строк документа\n",
    "с которомы дальше нужно работать"
   ]
  },
  {
   "cell_type": "markdown",
   "id": "b3873c20",
   "metadata": {},
   "source": [
    "# Идеи\n",
    "Далее будут представленны методы и идеи как работать со строками. Вся работа будет вестись со списком rows"
   ]
  },
  {
   "cell_type": "markdown",
   "id": "c5d59243",
   "metadata": {},
   "source": [
    "### Поиск уникальной строки\n",
    "Строки могут быть трех видов:\n",
    "1. Обычный текст\n",
    "2. Жирный текст\n",
    "3. Смешенный текст\n",
    "\n",
    "При этом эти две категории можно поделить на две:\n",
    "1. Однородный текст\n",
    "2. Неоднородный текст\n",
    "\n",
    "Предполагается, что задача классификации на две категории куда проще, чем на 3"
   ]
  },
  {
   "cell_type": "code",
   "execution_count": null,
   "id": "45f15dd2",
   "metadata": {},
   "outputs": [],
   "source": []
  },
  {
   "cell_type": "code",
   "execution_count": 57,
   "id": "f2baeca7",
   "metadata": {},
   "outputs": [],
   "source": [
    "def delta_coef(rows):\n",
    "    info_row = []\n",
    "    type_row = []\n",
    "\n",
    "    for j in range(len(rows)):\n",
    "        row_gray = cv2.cvtColor(rows[j], cv2.COLOR_BGR2GRAY)\n",
    "        words_row = pytesseract.image_to_data(row_gray, config=\"-l rus+eng --psm 7\", output_type=pytesseract.Output.DICT)\n",
    "        array_coef = []\n",
    "        N = len(words_row[\"word_num\"])\n",
    "        for i in range(N):\n",
    "            if words_row[\"level\"][i] == 5:\n",
    "                x0, y0, w0, h0 = words_row[\"left\"][i], words_row[\"top\"][i], words_row[\"width\"][i], words_row[\"height\"][i]\n",
    "                word_img = row_gray[y0:y0+h0, x0:x0+w0]\n",
    "                word_img = (255-word_img)/255\n",
    "                coef = word_img.mean()\n",
    "\n",
    "                if w0 > h0*3: # Слова из 1-3 символов являются проблемой\n",
    "                    array_coef.append(coef)\n",
    "\n",
    "        if len(array_coef) == 0:\n",
    "            k = 0\n",
    "        else:\n",
    "            min_word = np.min(array_coef)\n",
    "            max_word = np.max(array_coef)\n",
    "            k = max_word-min_word\n",
    "        print(\"\\r\"+f\"{j/len(rows):2.2f} % \", end=\"\")\n",
    "\n",
    "        info_row.append(k)\n",
    "        type_row.append(2 if k > 40 else 0)\n",
    "    print(\"\\r 100.00 %\")\n",
    "    return info_row, type_row\n"
   ]
  },
  {
   "cell_type": "code",
   "execution_count": 58,
   "id": "0698840a",
   "metadata": {},
   "outputs": [],
   "source": [
    "# ВЫВОД\n",
    "# info_row, type_row = delta_coef(rows)\n",
    "# lib.draw_img(img_doc, npy_mtrx_doc, type_row, info_row)"
   ]
  },
  {
   "cell_type": "markdown",
   "id": "a05e6ca0",
   "metadata": {},
   "source": [
    "### Корреляция\n",
    "Ключевыми значениями для слов являются:\n",
    "- среднее значения интенсивности\n",
    "- пороговое кол-во символов (например 0-10, 10-20, 20-30, ...)\n",
    "- минимальное и максимальное значения\n",
    "\n",
    "попробуем построить графические зависимости с целью выявить закономерность"
   ]
  },
  {
   "cell_type": "code",
   "execution_count": 59,
   "id": "91aca4fc",
   "metadata": {},
   "outputs": [
    {
     "data": {
      "text/plain": [
       "[<matplotlib.lines.Line2D at 0x1940bf311e0>,\n",
       " <matplotlib.lines.Line2D at 0x1940bf307c0>]"
      ]
     },
     "execution_count": 59,
     "metadata": {},
     "output_type": "execute_result"
    },
    {
     "data": {
      "image/png": "[encoded data removed]",
      "text/plain": [
       "<Figure size 640x480 with 1 Axes>"
      ]
     },
     "metadata": {},
     "output_type": "display_data"
    }
   ],
   "source": [
    "def mean_row(row):\n",
    "    return row.mean()\n",
    "\n",
    "def row_level_0_10(row):\n",
    "    h, w, _ = row.shape\n",
    "    row = row[row < 10]\n",
    "    return len(row)/(h*w)\n",
    "\n",
    "def row_level_10_20(row):\n",
    "    h, w, _ = row.shape\n",
    "    row = row[row < 20]\n",
    "    row = row[row > 10]\n",
    "    return len(row)/(h*w)\n",
    "\n",
    "def row_level_20_30(row):\n",
    "    h, w, _ = row.shape\n",
    "    row = row[row < 30]\n",
    "    row = row[row > 20]\n",
    "    return len(row)/(h*w)\n",
    "\n",
    "def get_coef_fun(rows, fun):\n",
    "    array_coef = []\n",
    "    for row in rows:\n",
    "        coef = fun(row)\n",
    "        array_coef.append(coef)\n",
    "    array_coef = np.array(array_coef)\n",
    "    if array_coef.max() == 0:\n",
    "        return array_coef\n",
    "    else:\n",
    "        return array_coef/array_coef.max()\n",
    "\n",
    "def std_word_level_0_10(row):\n",
    "    gray_row = cv2.cvtColor(row, cv2.COLOR_BGR2GRAY)\n",
    "    words_row = pytesseract.image_to_boxes(gray_row, config=\"-l rus+eng --psm 7\", output_type=pytesseract.Output.DICT)\n",
    "    array_coef = []\n",
    "    N = len(words_row[\"char\"])\n",
    "    for i in range(N):\n",
    "        \n",
    "        x0, y0, x1, y1 = words_row[\"left\"][i], words_row[\"top\"][i], words_row[\"right\"][i], words_row[\"bottom\"][i]\n",
    "        word_img = row_gray[y1:y0, x0:x1]\n",
    "        word_img = word_img[word_img < 30]\n",
    "        array_coef.append(len(word_img))\n",
    "    array_coef = np.array(array_coef)\n",
    "    return array_coef.mean()\n",
    "            \n",
    "y1 = get_coef_fun(rows, mean_row)\n",
    "y2 = get_coef_fun(rows, row_level_0_10)\n",
    "y3 = get_coef_fun(rows, row_level_10_20)\n",
    "y4 = get_coef_fun(rows, row_level_20_30)\n",
    "y5 = get_coef_fun(rows, std_word_level_0_10)\n",
    "\n",
    "\n",
    "\n",
    "x = npy_mtrx_doc[:, 0]\n",
    "plt.plot(x, y2, \"o\")"
   ]
  },
  {
   "cell_type": "code",
   "execution_count": 17,
   "id": "e78d932f",
   "metadata": {},
   "outputs": [
    {
     "data": {
      "text/plain": [
       "[1, 2, 3]"
      ]
     },
     "execution_count": 17,
     "metadata": {},
     "output_type": "execute_result"
    }
   ],
   "source": [
    "list(set([1, 2, 3,2, 2]))"
   ]
  },
  {
   "cell_type": "code",
   "execution_count": 6,
   "id": "21de80a5",
   "metadata": {},
   "outputs": [],
   "source": [
    "def get_bin_img(img):\n",
    "    img_gray = cv2.cvtColor(img.copy(), cv2.COLOR_BGR2GRAY)\n",
    "\n",
    "    threshold1 =  3 # Порог \n",
    "    threshold2 =  3 # Порог\n",
    "    new_img = cv2.Canny(img_gray, threshold1, threshold2)\n",
    "\n",
    "    # Толщина обводок 3\n",
    "    weight = 1\n",
    "    kernel = np.ones((weight, weight), np.uint8)\n",
    "    new_img= cv2.dilate(new_img, kernel, iterations= 1)\n",
    "    new_img = cv2.erode(new_img, kernel, iterations= 1)\n",
    "    return new_img\n",
    "\n"
   ]
  },
  {
   "cell_type": "code",
   "execution_count": 7,
   "id": "d3bb2969",
   "metadata": {},
   "outputs": [
    {
     "ename": "ValueError",
     "evalue": "too many values to unpack (expected 5)",
     "output_type": "error",
     "traceback": [
      "\u001b[1;31m---------------------------------------------------------------------------\u001b[0m",
      "\u001b[1;31mValueError\u001b[0m                                Traceback (most recent call last)",
      "Cell \u001b[1;32mIn [7], line 1\u001b[0m\n\u001b[1;32m----> 1\u001b[0m f, x1, y1, h1, w1 \u001b[38;5;241m=\u001b[39m rows[\u001b[38;5;241m5\u001b[39m]\n\u001b[0;32m      2\u001b[0m row_2 \u001b[38;5;241m=\u001b[39m rez[y1:y1\u001b[38;5;241m+\u001b[39mh1,x1:x1\u001b[38;5;241m+\u001b[39mw1]\n\u001b[0;32m      3\u001b[0m words_row \u001b[38;5;241m=\u001b[39m pytesseract\u001b[38;5;241m.\u001b[39mimage_to_data(row_2, config\u001b[38;5;241m=\u001b[39m\u001b[38;5;124m\"\u001b[39m\u001b[38;5;124m-l rus+eng --psm 7\u001b[39m\u001b[38;5;124m\"\u001b[39m, output_type\u001b[38;5;241m=\u001b[39mpytesseract\u001b[38;5;241m.\u001b[39mOutput\u001b[38;5;241m.\u001b[39mDICT)\n",
      "\u001b[1;31mValueError\u001b[0m: too many values to unpack (expected 5)"
     ]
    }
   ],
   "source": [
    "f, x1, y1, h1, w1 = rows[5]\n",
    "row_2 = rez[y1:y1+h1,x1:x1+w1]\n",
    "words_row = pytesseract.image_to_data(row_2, config=\"-l rus+eng --psm 7\", output_type=pytesseract.Output.DICT)\n",
    "rez_3 = rez_bgr[y1:y1+h1,x1:x1+w1, :]\n",
    "IMGS = []\n",
    "N = len(words_row[\"word_num\"])\n",
    "for i in range(N):\n",
    "    if words_row[\"level\"][i] == 5:\n",
    "        x0, y0, w0, h0 = words_row[\"left\"][i], words_row[\"top\"][i], words_row[\"width\"][i], words_row[\"height\"][i]\n",
    "        word_img = rez_3[y0:y0+h0, x0:x0+w0, :]\n",
    "        IMGS.append(word_img)\n",
    "        \n"
   ]
  },
  {
   "cell_type": "code",
   "execution_count": null,
   "id": "4e5e9059",
   "metadata": {},
   "outputs": [],
   "source": [
    "cv2.imshow(\"\",get_bin_img(IMGS[0]))\n",
    "cv2.waitKey(0)"
   ]
  },
  {
   "cell_type": "code",
   "execution_count": null,
   "id": "35e74934",
   "metadata": {},
   "outputs": [],
   "source": [
    "cv2.imshow(\"\",IMGS[1])\n",
    "cv2.waitKey(0)"
   ]
  },
  {
   "cell_type": "code",
   "execution_count": null,
   "id": "288acc34",
   "metadata": {},
   "outputs": [],
   "source": [
    "for i in range(len(IMGS)):\n",
    "    w = IMGS[i].shape[1]\n",
    "    s = (255-IMGS[i]).sum()//255//w\n",
    "    p = get_bin_img(IMGS[i]).sum()//255//w\n",
    "    coef_sp = s/p\n",
    "    print(f\"c:{coef_sp}, s:{s}, p:{p}\")"
   ]
  },
  {
   "cell_type": "code",
   "execution_count": null,
   "id": "c7520065",
   "metadata": {},
   "outputs": [],
   "source": [
    "coef_sp, s, p"
   ]
  },
  {
   "cell_type": "code",
   "execution_count": null,
   "id": "ab51b236",
   "metadata": {},
   "outputs": [],
   "source": [
    "IMGS[1].shape"
   ]
  },
  {
   "cell_type": "markdown",
   "id": "c1eaf3ed",
   "metadata": {},
   "source": [
    "### Метод вписанного квадрата"
   ]
  },
  {
   "cell_type": "code",
   "execution_count": null,
   "id": "8270a8a3",
   "metadata": {},
   "outputs": [],
   "source": [
    "f, x1, y1, h1, w1 = rows[5]\n",
    "row_2 = rez[y1:y1+h1,x1:x1+w1]\n",
    "сhars_row = pytesseract.image_to_boxes(row_2, config=\"-l rus+eng --psm 7\", output_type=pytesseract.Output.DICT)\n",
    "rez_3 = rez_bgr[y1:y1+h1,x1:x1+w1, :]\n",
    "IMGS = []\n",
    "N = len(сhars_row[\"char\"])\n",
    "for i in range(N):\n",
    "    x0, y0, y1, x1 = сhars_row[\"left\"][i], сhars_row[\"top\"][i], сhars_row[\"bottom\"][i], сhars_row[\"right\"][i]\n",
    "    char_img = rez_3[y1:y0, x0:x1, :]\n",
    "    IMGS.append(char_img)"
   ]
  },
  {
   "cell_type": "code",
   "execution_count": null,
   "id": "71d02fc0",
   "metadata": {},
   "outputs": [],
   "source": [
    "cv2.imshow(\"\",IMGS[1])\n",
    "cv2.waitKey(0)"
   ]
  },
  {
   "cell_type": "code",
   "execution_count": null,
   "id": "188a0428",
   "metadata": {},
   "outputs": [],
   "source": []
  },
  {
   "cell_type": "code",
   "execution_count": null,
   "id": "e6bc73d4",
   "metadata": {},
   "outputs": [],
   "source": []
  }
 ],
 "metadata": {
  "kernelspec": {
   "display_name": "Python 3 (ipykernel)",
   "language": "python",
   "name": "python3"
  },
  "language_info": {
   "codemirror_mode": {
    "name": "ipython",
    "version": 3
   },
   "file_extension": ".py",
   "mimetype": "text/x-python",
   "name": "python",
   "nbconvert_exporter": "python",
   "pygments_lexer": "ipython3",
   "version": "3.10.5"
  }
 },
 "nbformat": 4,
 "nbformat_minor": 5
}
